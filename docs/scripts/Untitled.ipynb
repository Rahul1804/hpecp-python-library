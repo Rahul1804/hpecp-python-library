{
 "cells": [
  {
   "cell_type": "code",
   "execution_count": 1,
   "metadata": {},
   "outputs": [],
   "source": [
    "!pip3 install --quiet --upgrade git+https://github.com/hpe-container-platform-community/hpecp-client@master"
   ]
  },
  {
   "cell_type": "code",
   "execution_count": 2,
   "metadata": {},
   "outputs": [
    {
     "name": "stdout",
     "output_type": "stream",
     "text": [
      "\n",
      "HPE Container Platform K8S Clusters:\n",
      "\n",
      "+-----------------------+------+-------------+-------------+--------------------+----------------------+--------------+--------+\n",
      "|          id           | name | description | k8s_version | created_by_user_id | created_by_user_name | created_time | status |\n",
      "+-----------------------+------+-------------+-------------+--------------------+----------------------+--------------+--------+\n",
      "| /api/v2/k8scluster/20 | def  | my cluster  |   1.17.0    |   /api/v1/user/5   |        admin         |  1588260014  | ready  |\n",
      "+-----------------------+------+-------------+-------------+--------------------+----------------------+--------------+--------+\n"
     ]
    }
   ],
   "source": [
    "from hpecp import ContainerPlatformClient, APIException\n",
    "from hpecp.k8s_cluster import K8sClusterHostConfig\n",
    "import os, sys\n",
    "\n",
    "hpeclient = ContainerPlatformClient(username='admin', \n",
    "                                password='admin123', \n",
    "                                api_host='127.0.0.1', \n",
    "                                api_port=8080,\n",
    "                                use_ssl=True,\n",
    "                                verify_ssl='/certs/hpecp-ca-cert.pem')\n",
    "\n",
    "hpeclient.create_session()\n",
    "\n",
    "print(\"\\nHPE Container Platform K8S Clusters:\\n\")\n",
    "print(hpeclient.k8s_cluster.list().tabulate())"
   ]
  },
  {
   "cell_type": "code",
   "execution_count": 3,
   "metadata": {},
   "outputs": [
    {
     "name": "stdout",
     "output_type": "stream",
     "text": [
      "\n",
      "Listing pods with their IPs:\n",
      "\n",
      "10.192.0.144                  hpecp   hpecp-agent-8499d5798b-z7xf5\n",
      "   10.1.0.50                  hpecp   hpecp-fsmount-6mp4p\n",
      "  10.1.0.181                  hpecp   hpecp-fsmount-snw66\n",
      "10.192.0.147                  hpecp   kubedirector-7fdbdb7775-w7q6s\n",
      "   10.1.0.50            kube-system   canal-2px9j\n",
      "  10.1.0.181            kube-system   canal-nswzl\n",
      "  10.192.0.9            kube-system   coredns-6955765f44-597tp\n",
      " 10.192.0.10            kube-system   coredns-6955765f44-w75qj\n",
      "  10.1.0.181            kube-system   etcd-ip-10-1-0-181.eu-west-2.compute.internal\n",
      "  10.1.0.181            kube-system   kube-apiserver-ip-10-1-0-181.eu-west-2.compute.internal\n",
      "  10.1.0.181            kube-system   kube-controller-manager-ip-10-1-0-181.eu-west-2.compute.internal\n",
      "   10.1.0.50            kube-system   kube-proxy-472fz\n",
      "  10.1.0.181            kube-system   kube-proxy-lrk8s\n",
      "  10.1.0.181            kube-system   kube-scheduler-ip-10-1-0-181.eu-west-2.compute.internal\n",
      "10.192.0.142            kube-system   kube-state-metrics-55489476b6-4tw7r\n",
      "  10.1.0.181            kube-system   metricbeat-66dc7b8c78-7gjh8\n",
      "  10.1.0.181            kube-system   metricbeat-bxpn8\n",
      "   10.1.0.50            kube-system   metricbeat-x7qhp\n",
      "  10.192.0.8            kube-system   metrics-server-6775cb9c9-z9428\n",
      "10.192.0.145   kubernetes-dashboard   dashboard-metrics-scraper-64c6c59665-qnjrz\n",
      "10.192.0.143   kubernetes-dashboard   kubernetes-dashboard-664597f9b6-fwcdj\n",
      "   10.1.0.50               mapr-csi   csi-nodeplugin-kdf-99snx\n",
      "10.192.0.146               mapr-csi   csi-provisioner-kdf-0\n"
     ]
    }
   ],
   "source": [
    "from kubernetes import client, config\n",
    "import tempfile\n",
    "\n",
    "cluster_list = hpeclient.k8s_cluster.list()\n",
    "if len(cluster_list) == 0:\n",
    "    print(\"No clusters found.\")\n",
    "else:\n",
    "    # get the kube admin config for the first cluster \n",
    "    admin_kube_config = cluster_list[0].admin_kube_config\n",
    "\n",
    "    #  write it to a temporary file\n",
    "    with tempfile.NamedTemporaryFile(mode = \"w\") as fp:\n",
    "        fp.write(admin_kube_config)\n",
    "        fp.flush()\n",
    "\n",
    "        # read the kube config with the kubernetes client\n",
    "        config.load_kube_config(fp.name)\n",
    "\n",
    "        # list the pods        \n",
    "        v1 = client.CoreV1Api()\n",
    "        print(\"\\nListing pods with their IPs:\\n\")\n",
    "        ret = v1.list_pod_for_all_namespaces(watch=False)\n",
    "        for i in ret.items:\n",
    "            print(\"{:>12}   {:>20}   {}\".format(i.status.pod_ip, i.metadata.namespace, i.metadata.name))\n"
   ]
  },
  {
   "cell_type": "code",
   "execution_count": null,
   "metadata": {},
   "outputs": [],
   "source": []
  }
 ],
 "metadata": {
  "kernelspec": {
   "display_name": "Python 3",
   "language": "python",
   "name": "python3"
  },
  "language_info": {
   "codemirror_mode": {
    "name": "ipython",
    "version": 3
   },
   "file_extension": ".py",
   "mimetype": "text/x-python",
   "name": "python",
   "nbconvert_exporter": "python",
   "pygments_lexer": "ipython3",
   "version": "3.7.7"
  }
 },
 "nbformat": 4,
 "nbformat_minor": 4
}
