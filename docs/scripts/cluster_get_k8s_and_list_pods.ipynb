{
 "cells": [
  {
   "cell_type": "code",
   "execution_count": 1,
   "metadata": {},
   "outputs": [],
   "source": [
    "!pip3 install --quiet --upgrade git+https://github.com/hpe-container-platform-community/hpecp-client@master\n",
    "!pip3 install --quiet kubernetes"
   ]
  },
  {
   "cell_type": "code",
   "execution_count": 3,
   "metadata": {},
   "outputs": [
    {
     "name": "stdout",
     "output_type": "stream",
     "text": [
      "['.', '']\n"
     ]
    }
   ],
   "source": [
    "import os\n",
    "try:\n",
    "    user_paths = os.environ['PYTHONPATH'].split(os.pathsep)\n",
    "except KeyError:\n",
    "    user_paths = []\n",
    "    \n",
    "print(user_paths)"
   ]
  },
  {
   "cell_type": "code",
   "execution_count": 4,
   "metadata": {},
   "outputs": [],
   "source": [
    "from hpecp import ContainerPlatformClient, APIException\n",
    "from hpecp.k8s_cluster import K8sClusterHostConfig\n",
    "import os, sys\n",
    "\n",
    "hpeclient = ContainerPlatformClient(username='admin', \n",
    "                                password='admin123', \n",
    "                                api_host='127.0.0.1', \n",
    "                                api_port=8080,\n",
    "                                use_ssl=True,\n",
    "                                verify_ssl='/certs/hpecp-ca-cert.pem')\n",
    "\n",
    "hpeclient.create_session()"
   ]
  },
  {
   "cell_type": "code",
   "execution_count": 5,
   "metadata": {},
   "outputs": [
    {
     "name": "stdout",
     "output_type": "stream",
     "text": [
      "+-----------+------------+------------------------------------------+------------+--------------------------+\n",
      "| worker_id |   status   |                 hostname                 |   ipaddr   |           href           |\n",
      "+-----------+------------+------------------------------------------+------------+--------------------------+\n",
      "|     3     | configured | ip-10-1-0-145.eu-west-2.compute.internal | 10.1.0.145 | /api/v2/worker/k8shost/3 |\n",
      "|     4     | configured | ip-10-1-0-50.eu-west-2.compute.internal  | 10.1.0.50  | /api/v2/worker/k8shost/4 |\n",
      "|     5     | configured | ip-10-1-0-181.eu-west-2.compute.internal | 10.1.0.181 | /api/v2/worker/k8shost/5 |\n",
      "|     6     | configured | ip-10-1-0-118.eu-west-2.compute.internal | 10.1.0.118 | /api/v2/worker/k8shost/6 |\n",
      "+-----------+------------+------------------------------------------+------------+--------------------------+\n"
     ]
    }
   ],
   "source": [
    "print( hpeclient.k8s_worker.get_k8shosts().tabulate() )"
   ]
  },
  {
   "cell_type": "code",
   "execution_count": 6,
   "metadata": {},
   "outputs": [
    {
     "name": "stderr",
     "output_type": "stream",
     "text": [
      "2020-05-01 10:37:11,498 - ContainerPlatformClient - ERROR - k8s_cluster/create : post https://127.0.0.1:8080/api/v2/k8scluster Request: {\"label\": {\"name\": \"Demo Cluster 2\", \"description\": \"Demo 2 using Python\"}, \"pod_network_range\": \"10.192.0.0/12\", \"service_network_range\": \"10.96.0.0/12\", \"pod_dns_domain\": \"cluster.local\", \"persistent_storage\": {\"local\": false, \"nimble_csi\": false}, \"k8shosts_config\": [{\"node\": \"/api/v2/worker/k8shost/5\", \"role\": \"master\"}], \"k8s_version\": \"1.17.0\"}\n",
      "Traceback (most recent call last):\n",
      "  File \"/usr/local/lib/python3.7/site-packages/hpecp/client.py\", line 152, in _request\n",
      "    response.raise_for_status()\n",
      "  File \"/usr/local/lib/python3.7/site-packages/requests/models.py\", line 941, in raise_for_status\n",
      "    raise HTTPError(http_error_msg, response=self)\n",
      "requests.exceptions.HTTPError: 403 Client Error: Forbidden for url: https://127.0.0.1:8080/api/v2/k8scluster\n"
     ]
    },
    {
     "name": "stdout",
     "output_type": "stream",
     "text": [
      "('403 Forbidden: \\n/api/v2/worker/k8shost/5.node: host is part of an existing k8s cluster\\r\\n', 'post', 'https://127.0.0.1:8080/api/v2/k8scluster', '{\"label\": {\"name\": \"Demo Cluster 2\", \"description\": \"Demo 2 using Python\"}, \"pod_network_range\": \"10.192.0.0/12\", \"service_network_range\": \"10.96.0.0/12\", \"pod_dns_domain\": \"cluster.local\", \"persistent_storage\": {\"local\": false, \"nimble_csi\": false}, \"k8shosts_config\": [{\"node\": \"/api/v2/worker/k8shost/5\", \"role\": \"master\"}], \"k8s_version\": \"1.17.0\"}')\n"
     ]
    }
   ],
   "source": [
    "try:\n",
    "    k8s_cluster_id = hpeclient.k8s_cluster.create(\n",
    "                                name = 'Demo Cluster 2', \n",
    "                                description = 'Demo 2 using Python', \n",
    "                                k8s_version = '1.17.0', \n",
    "                                k8shosts_config = [ \n",
    "                                                K8sClusterHostConfig('/api/v2/worker/k8shost/5', 'master')\n",
    "                                            ]\n",
    "                                )\n",
    "    print('Creating cluster id: ' + k8s_cluster_id)\n",
    "except APIException as e:\n",
    "    print(e)"
   ]
  },
  {
   "cell_type": "code",
   "execution_count": 7,
   "metadata": {},
   "outputs": [
    {
     "name": "stdout",
     "output_type": "stream",
     "text": [
      "\n",
      "HPE Container Platform K8S Clusters:\n",
      "\n",
      "+-----------------------+----------------+---------------------+-------------+--------------------+----------------------+--------------+--------+\n",
      "|          id           |      name      |     description     | k8s_version | created_by_user_id | created_by_user_name | created_time | status |\n",
      "+-----------------------+----------------+---------------------+-------------+--------------------+----------------------+--------------+--------+\n",
      "| /api/v2/k8scluster/46 |      Demo      |  Demo using Python  |   1.17.0    |   /api/v1/user/5   |        admin         |  1588313816  | ready  |\n",
      "| /api/v2/k8scluster/47 |   Cluster 2    |   Created via UI    |   1.16.4    |   /api/v1/user/5   |        admin         |  1588313906  | ready  |\n",
      "| /api/v2/k8scluster/48 | Demo Cluster 2 | Demo 2 using Python |   1.17.0    |   /api/v1/user/5   |        admin         |  1588314522  | ready  |\n",
      "+-----------------------+----------------+---------------------+-------------+--------------------+----------------------+--------------+--------+\n"
     ]
    }
   ],
   "source": [
    "print(\"\\nHPE Container Platform K8S Clusters:\\n\")\n",
    "\n",
    "print(hpeclient.k8s_cluster.list().tabulate())"
   ]
  },
  {
   "cell_type": "code",
   "execution_count": 5,
   "metadata": {},
   "outputs": [
    {
     "ename": "ImportError",
     "evalue": "cannot import name 'APIItemNotFoundException' from 'hpecp' (/usr/local/lib/python3.7/site-packages/hpecp/__init__.py)",
     "output_type": "error",
     "traceback": [
      "\u001b[0;31m---------------------------------------------------------------------------\u001b[0m",
      "\u001b[0;31mImportError\u001b[0m                               Traceback (most recent call last)",
      "\u001b[0;32m<ipython-input-5-808a45a813f3>\u001b[0m in \u001b[0;36m<module>\u001b[0;34m\u001b[0m\n\u001b[0;32m----> 1\u001b[0;31m \u001b[0;32mfrom\u001b[0m \u001b[0mhpecp\u001b[0m \u001b[0;32mimport\u001b[0m \u001b[0mAPIException\u001b[0m\u001b[0;34m,\u001b[0m \u001b[0mAPIItemNotFoundException\u001b[0m\u001b[0;34m\u001b[0m\u001b[0;34m\u001b[0m\u001b[0m\n\u001b[0m\u001b[1;32m      2\u001b[0m \u001b[0;32mtry\u001b[0m\u001b[0;34m:\u001b[0m\u001b[0;34m\u001b[0m\u001b[0;34m\u001b[0m\u001b[0m\n\u001b[1;32m      3\u001b[0m     \u001b[0mhpeclient\u001b[0m\u001b[0;34m.\u001b[0m\u001b[0mk8s_cluster\u001b[0m\u001b[0;34m.\u001b[0m\u001b[0mwait\u001b[0m\u001b[0;34m(\u001b[0m\u001b[0mk8scluster_id\u001b[0m\u001b[0;34m=\u001b[0m\u001b[0;34m'/api/v2/k8scluster/46'\u001b[0m\u001b[0;34m,\u001b[0m \u001b[0mstatus\u001b[0m\u001b[0;34m=\u001b[0m\u001b[0;34m[\u001b[0m \u001b[0;34m]\u001b[0m\u001b[0;34m)\u001b[0m\u001b[0;34m\u001b[0m\u001b[0;34m\u001b[0m\u001b[0m\n\u001b[1;32m      4\u001b[0m \u001b[0;32mexcept\u001b[0m\u001b[0;34m:\u001b[0m\u001b[0;34m\u001b[0m\u001b[0;34m\u001b[0m\u001b[0m\n\u001b[1;32m      5\u001b[0m     \u001b[0mprint\u001b[0m\u001b[0;34m(\u001b[0m\u001b[0;34m\"Error\"\u001b[0m\u001b[0;34m)\u001b[0m\u001b[0;34m\u001b[0m\u001b[0;34m\u001b[0m\u001b[0m\n",
      "\u001b[0;31mImportError\u001b[0m: cannot import name 'APIItemNotFoundException' from 'hpecp' (/usr/local/lib/python3.7/site-packages/hpecp/__init__.py)"
     ]
    }
   ],
   "source": [
    "from hpecp import APIException, APIItemNotFoundException\n",
    "try:\n",
    "    hpeclient.k8s_cluster.wait(k8scluster_id='/api/v2/k8scluster/46', status=[ ])\n",
    "except:\n",
    "    print(\"Error\")"
   ]
  },
  {
   "cell_type": "code",
   "execution_count": 6,
   "metadata": {},
   "outputs": [
    {
     "name": "stdout",
     "output_type": "stream",
     "text": [
      "\n",
      "Listing pods with their IPs:\n",
      "\n",
      "10.192.0.132                  hpecp   hpecp-agent-8499d5798b-rh6mc\n",
      "   10.1.0.50                  hpecp   hpecp-fsmount-bxnqp\n",
      "  10.1.0.145                  hpecp   hpecp-fsmount-vlk4v\n",
      "10.192.0.133                  hpecp   kubedirector-7fdbdb7775-9dzdb\n",
      "  10.1.0.145            kube-system   canal-79glm\n",
      "   10.1.0.50            kube-system   canal-vx8sh\n",
      "10.192.0.131            kube-system   coredns-6955765f44-9vhmr\n",
      "10.192.0.130            kube-system   coredns-6955765f44-dgws2\n",
      "   10.1.0.50            kube-system   etcd-ip-10-1-0-50.eu-west-2.compute.internal\n",
      "   10.1.0.50            kube-system   kube-apiserver-ip-10-1-0-50.eu-west-2.compute.internal\n",
      "   10.1.0.50            kube-system   kube-controller-manager-ip-10-1-0-50.eu-west-2.compute.internal\n",
      "  10.1.0.145            kube-system   kube-proxy-8q5sq\n",
      "   10.1.0.50            kube-system   kube-proxy-d5v6r\n",
      "   10.1.0.50            kube-system   kube-scheduler-ip-10-1-0-50.eu-west-2.compute.internal\n",
      "10.192.0.136            kube-system   kube-state-metrics-55489476b6-ncddj\n",
      "   10.1.0.50            kube-system   metricbeat-66dc7b8c78-82jqx\n",
      "   10.1.0.50            kube-system   metricbeat-kxn5w\n",
      "  10.1.0.145            kube-system   metricbeat-x4r2w\n",
      "  10.192.0.2            kube-system   metrics-server-6775cb9c9-w2xqd\n",
      "10.192.0.134   kubernetes-dashboard   dashboard-metrics-scraper-64c6c59665-4xjht\n",
      "10.192.0.135   kubernetes-dashboard   kubernetes-dashboard-664597f9b6-6n5rt\n",
      "  10.1.0.145               mapr-csi   csi-nodeplugin-kdf-27t2r\n",
      "10.192.0.137               mapr-csi   csi-provisioner-kdf-0\n"
     ]
    }
   ],
   "source": [
    "from kubernetes import client, config\n",
    "import tempfile\n",
    "\n",
    "try:\n",
    "    demo_cluster = hpeclient.k8s_cluster.get('/api/v2/k8scluster/46')\n",
    "except APIException as e:\n",
    "    print(e)\n",
    "    \n",
    "# get the kube admin config for the first cluster \n",
    "admin_kube_config = demo_cluster.admin_kube_config\n",
    "\n",
    "#  write it to a temporary file\n",
    "with tempfile.NamedTemporaryFile(mode = \"w\") as fp:\n",
    "    fp.write(admin_kube_config)\n",
    "    fp.flush()\n",
    "\n",
    "    # read the kube config with the kubernetes client\n",
    "    config.load_kube_config(fp.name)\n",
    "\n",
    "    # list the pods        \n",
    "    v1 = client.CoreV1Api()\n",
    "    print(\"\\nListing pods with their IPs:\\n\")\n",
    "    ret = v1.list_pod_for_all_namespaces(watch=False)\n",
    "    for i in ret.items:\n",
    "        print(\"{:>12}   {:>20}   {}\".format(i.status.pod_ip, i.metadata.namespace, i.metadata.name))\n"
   ]
  },
  {
   "cell_type": "code",
   "execution_count": null,
   "metadata": {},
   "outputs": [],
   "source": []
  }
 ],
 "metadata": {
  "kernelspec": {
   "display_name": "Python 3",
   "language": "python",
   "name": "python3"
  },
  "language_info": {
   "codemirror_mode": {
    "name": "ipython",
    "version": 3
   },
   "file_extension": ".py",
   "mimetype": "text/x-python",
   "name": "python",
   "nbconvert_exporter": "python",
   "pygments_lexer": "ipython3",
   "version": "3.7.7"
  }
 },
 "nbformat": 4,
 "nbformat_minor": 4
}
